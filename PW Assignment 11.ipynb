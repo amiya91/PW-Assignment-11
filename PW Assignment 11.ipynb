{
 "cells": [
  {
   "cell_type": "raw",
   "id": "8515bd61-3ad8-43fb-ab43-ef47182078d4",
   "metadata": {},
   "source": [
    "Q1. What is multiprocessing in python? Why is it useful?"
   ]
  },
  {
   "cell_type": "raw",
   "id": "3f7bf890-4df7-4c6f-852f-e8f186beefac",
   "metadata": {},
   "source": [
    ">>>Multiprocessing in Python is a way to run multiple tasks or processes simultaneously on your computer's processor. Normally, when you run a Python program, it runs sequentially, one line at a time. But with multiprocessing, you can divide your program into smaller tasks and run them simultaneously, making use of multiple processors if available.\n",
    "\n",
    ">>Imagine we have a big task that takes a long time to complete, like baking a cake. Normally, you would mix the ingredients, put the cake in the oven, and wait for it to bake before moving on to the next task. Multiprocessing allows you to have multiple ovens and mixers, so you can mix the batter in one mixer while the cake is baking in another oven. This way, you can save time and complete the task faster.\n",
    "\n",
    ">>Similarly, in programming, multiprocessing allows you to split a big task into smaller parts and run them simultaneously. Each part can be assigned to a separate processor, if available, which can work on it independently. This can significantly speed up the execution of your program, especially if you have a computer with multiple processors or cores.\n",
    "\n",
    ">>Multiprocessing is useful in various scenarios, such as:\n",
    "\n",
    ">>CPU-intensive tasks: If your program involves heavy calculations or processing that can benefit from parallel execution, multiprocessing can speed up the task by distributing the workload across multiple processors.\n",
    "Improving responsiveness: If your program needs to perform multiple tasks at the same time, multiprocessing allows you to run them concurrently, making your program more responsive and efficient.\n",
    "\n",
    ">>Parallelizing I/O-bound operations: If your program involves tasks that are primarily waiting for input/output operations, such as reading and writing files or making network requests, multiprocessing can help you take advantage of the idle time and perform other tasks in parallel."
   ]
  },
  {
   "cell_type": "raw",
   "id": "74c48c58-01ad-4257-801a-98429747f259",
   "metadata": {},
   "source": [
    "Q2. What are the differences between multiprocessing and multithreading?"
   ]
  },
  {
   "cell_type": "raw",
   "id": "b9427091-e2e3-48a5-9246-1ae9eb522b76",
   "metadata": {},
   "source": [
    ">>>Imagine we have a big task that needs to be completed, like painting a house. You want to get the job done as quickly as possible, so you decide to divide the work among your friends. Here's how multiprocessing and multithreading would look in this scenario:\n",
    "\n",
    ">>Multiprocessing: In multiprocessing, each friend works independently on a separate section of the house. They have their own set of tools and can work simultaneously. This way, multiple parts of the house can be painted at the same time, making the task faster. Each friend represents a separate process, and they don't directly share resources with each other.\n",
    "\n",
    ">>Multithreading: In multithreading, instead of dividing the work by sections, each friend works on a different aspect of painting, such as walls, doors, or windows. They share the same set of tools and need to coordinate their actions more closely. One friend might be painting the walls while another friend is painting the doors simultaneously. This way, they work together to complete the task faster. Each friend represents a separate thread, and they share the same resources, such as paint and brushes."
   ]
  },
  {
   "cell_type": "raw",
   "id": "c6e034d1-6c8a-4922-8f27-9fffc4bcc0e1",
   "metadata": {},
   "source": [
    "Q3. Write a python code to create a process using the multiprocessing module."
   ]
  },
  {
   "cell_type": "code",
   "execution_count": 2,
   "id": "3ae2dda5-dab4-4d39-ac5d-fd33d5c5ef70",
   "metadata": {},
   "outputs": [
    {
     "name": "stdout",
     "output_type": "stream",
     "text": [
      "Hello, PWS!\n"
     ]
    }
   ],
   "source": [
    "import multiprocessing\n",
    "\n",
    "def worker(name):\n",
    "    print(f\"Hello, {name}!\")\n",
    "\n",
    "if __name__ == \"__main__\":\n",
    "    process = multiprocessing.Process(target=worker, args=(\"PWS\",))\n",
    "    process.start()\n",
    "    process.join()"
   ]
  },
  {
   "cell_type": "raw",
   "id": "0d113967-8cae-44fe-ac56-5b1a77b8e7ec",
   "metadata": {},
   "source": [
    "Q4. What is a multiprocessing pool in python? Why is it used?"
   ]
  },
  {
   "cell_type": "raw",
   "id": "93aa2cbe-dbbe-4b79-a024-0d139344868b",
   "metadata": {},
   "source": [
    ">>>Imagine we have a big task that needs to be done, and you have a team of workers to help you. Each worker can independently work on a part of the task, making the overall process faster. \n",
    "\n",
    "In Python, the multiprocessing pool is like that team of workers. It is a feature that allows us to create a group of worker processes that can work on different parts of a task simultaneously.\n",
    "\n",
    "When we have a computationally intensive task or want to perform several independent tasks, we can use a multiprocessing pool to divide the workload among multiple processes. Each process works on a specific portion of the task, which helps in achieving parallelism and speeding up the overall execution.\n",
    "\n",
    "The multiprocessing pool manages the distribution of tasks and the coordination between the worker processes. It takes care of dividing the work, assigning tasks to different processes, and collecting the results once the processes complete their work.\n",
    "\n",
    "The pool also helps in managing system resources. It limits the number of processes that can run concurrently based on the available resources and the specified pool size. This prevents your system from becoming overwhelmed with too many processes running at the same time."
   ]
  },
  {
   "cell_type": "raw",
   "id": "c3f8d320-2f8e-47ee-8429-2310ef532b72",
   "metadata": {},
   "source": [
    "Q5. How can we create a pool of worker processes in python using the multiprocessing module?"
   ]
  },
  {
   "cell_type": "raw",
   "id": "974ade67-d2bf-457c-b872-fb45952a6dcb",
   "metadata": {},
   "source": [
    ">>>Imagine we have a big task to accomplish, and we want to make it faster by dividing the work among multiple people. In Python, we can do something similar using the `multiprocessing` module to create a pool of worker processes.\n",
    "\n",
    "Here's a simplified explanation of how it works:\n",
    "\n",
    ">>First, we import the `multiprocessing` module in your Python script.\n",
    ">>Then, we define a function that represents the work each worker process will perform. This function will take some input and return some output.\n",
    ">>Next, we create a pool of worker processes using the `Pool` class from the `multiprocessing` module. The pool acts as a group of workers ready to perform tasks.\n",
    ">>You specify the number of worker processes you want in the pool. The pool manages these workers and assigns tasks to them.\n",
    ">>Now, we can submit tasks to the pool of workers. These tasks are instances of the function you defined earlier. Each task will be assigned to an available worker in the pool.\n",
    ">>The worker processes in the pool will execute the tasks in parallel, meaning they will work on different parts of the task at the same time.\n",
    ">>As the workers finish their tasks, they will return the results back to us.\n",
    ">>Finally, we can collect the results and process them as needed."
   ]
  }
 ],
 "metadata": {
  "kernelspec": {
   "display_name": "Python 3 (ipykernel)",
   "language": "python",
   "name": "python3"
  },
  "language_info": {
   "codemirror_mode": {
    "name": "ipython",
    "version": 3
   },
   "file_extension": ".py",
   "mimetype": "text/x-python",
   "name": "python",
   "nbconvert_exporter": "python",
   "pygments_lexer": "ipython3",
   "version": "3.10.8"
  }
 },
 "nbformat": 4,
 "nbformat_minor": 5
}
